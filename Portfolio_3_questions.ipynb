{
 "cells": [
  {
   "cell_type": "markdown",
   "id": "Z88FfJc9lA_T",
   "metadata": {
    "id": "Z88FfJc9lA_T"
   },
   "source": [
    "## Analysis of an E-commerce Dataset Part 3 (s2 2023)"
   ]
  },
  {
   "cell_type": "markdown",
   "id": "hoq0NwA9lA_V",
   "metadata": {
    "id": "hoq0NwA9lA_V"
   },
   "source": [
    "\n",
    "In this Portfolio task, you will continue working with the dataset you have used in portfolio 2. But the difference is that the ratings have been converted to like (with score 1) and dislike (with score 0). Your task is to train classification models such as KNN to predict whether a user like or dislike an item.  \n",
    "\n",
    "\n",
    "The header of the csv file is shown below. \n",
    "\n",
    "| userId | timestamp | review | item | helpfulness | gender | category | item_id | item_price | user_city | rating |\n",
    "    | ---- | ---- | ---- | ---- | ---- | ---- | ---- | ---- | ---- | ---- | ---- |\n",
    "    \n",
    "Your high level goal in this notebook is to try to build and evaluate predictive models for 'rating' from other available features - predict the value of the like (corresponding to rating 1) and dislike (corresponding to rating 0) in the data from some of the other fields. More specifically, you need to complete the following major steps: \n",
    "1) Explore the data. Clean the data if necessary. For example, remove abnormal instanaces and replace missing values.\n",
    "2) Convert object features into digit features by using an encoder\n",
    "3) Study the correlation between these features. \n",
    "4) Split the dataset and train a logistic regression model to predict 'rating' based on other features. Evaluate the accuracy of your model.\n",
    "5) Split the dataset and train a KNN model to predict 'rating' based on other features. You can set K with an ad-hoc manner in this step. Evaluate the accuracy of your model.\n",
    "6) Tune the hyper-parameter K in KNN to see how it influences the prediction performance\n",
    "\n",
    "Note 1: We did not provide any description of each step in the notebook. You should learn how to properly comment your notebook by yourself to make your notebook file readable. \n",
    "\n",
    "Note 2: you are not being evaluated on the ___accuracy___ of the model but on the ___process___ that you use to generate it. Please use both ___Logistic Regression model___ and ___KNN model___ for solving this classification problem. Accordingly, discuss the performance of these two methods.\n",
    "    "
   ]
  },
  {
   "cell_type": "code",
   "execution_count": 491,
   "id": "a9417400",
   "metadata": {},
   "outputs": [],
   "source": [
    "import warnings\n",
    "warnings.filterwarnings('ignore')"
   ]
  },
  {
   "cell_type": "code",
   "execution_count": 492,
   "id": "1f145803",
   "metadata": {},
   "outputs": [
    {
     "data": {
      "text/html": [
       "<div>\n",
       "<style scoped>\n",
       "    .dataframe tbody tr th:only-of-type {\n",
       "        vertical-align: middle;\n",
       "    }\n",
       "\n",
       "    .dataframe tbody tr th {\n",
       "        vertical-align: top;\n",
       "    }\n",
       "\n",
       "    .dataframe thead th {\n",
       "        text-align: right;\n",
       "    }\n",
       "</style>\n",
       "<table border=\"1\" class=\"dataframe\">\n",
       "  <thead>\n",
       "    <tr style=\"text-align: right;\">\n",
       "      <th></th>\n",
       "      <th>userId</th>\n",
       "      <th>timestamp</th>\n",
       "      <th>review</th>\n",
       "      <th>item</th>\n",
       "      <th>helpfulness</th>\n",
       "      <th>gender</th>\n",
       "      <th>category</th>\n",
       "      <th>item_id</th>\n",
       "      <th>item_price</th>\n",
       "      <th>user_city</th>\n",
       "      <th>rating</th>\n",
       "    </tr>\n",
       "  </thead>\n",
       "  <tbody>\n",
       "    <tr>\n",
       "      <th>0</th>\n",
       "      <td>4081</td>\n",
       "      <td>71900</td>\n",
       "      <td>Not always McCrap</td>\n",
       "      <td>McDonald's</td>\n",
       "      <td>3</td>\n",
       "      <td>M</td>\n",
       "      <td>Restaurants &amp; Gourmet</td>\n",
       "      <td>41</td>\n",
       "      <td>30.74</td>\n",
       "      <td>4</td>\n",
       "      <td>1</td>\n",
       "    </tr>\n",
       "    <tr>\n",
       "      <th>1</th>\n",
       "      <td>4081</td>\n",
       "      <td>72000</td>\n",
       "      <td>I dropped the chalupa even before he told me to</td>\n",
       "      <td>Taco Bell</td>\n",
       "      <td>4</td>\n",
       "      <td>M</td>\n",
       "      <td>Restaurants &amp; Gourmet</td>\n",
       "      <td>74</td>\n",
       "      <td>108.30</td>\n",
       "      <td>4</td>\n",
       "      <td>0</td>\n",
       "    </tr>\n",
       "    <tr>\n",
       "      <th>2</th>\n",
       "      <td>4081</td>\n",
       "      <td>72000</td>\n",
       "      <td>The Wonderful World of Wendy</td>\n",
       "      <td>Wendy's</td>\n",
       "      <td>4</td>\n",
       "      <td>M</td>\n",
       "      <td>Restaurants &amp; Gourmet</td>\n",
       "      <td>84</td>\n",
       "      <td>69.00</td>\n",
       "      <td>4</td>\n",
       "      <td>1</td>\n",
       "    </tr>\n",
       "    <tr>\n",
       "      <th>3</th>\n",
       "      <td>4081</td>\n",
       "      <td>100399</td>\n",
       "      <td>They actually did it</td>\n",
       "      <td>South Park: Bigger, Longer &amp; Uncut</td>\n",
       "      <td>3</td>\n",
       "      <td>M</td>\n",
       "      <td>Movies</td>\n",
       "      <td>68</td>\n",
       "      <td>143.11</td>\n",
       "      <td>4</td>\n",
       "      <td>1</td>\n",
       "    </tr>\n",
       "    <tr>\n",
       "      <th>4</th>\n",
       "      <td>4081</td>\n",
       "      <td>100399</td>\n",
       "      <td>Hey! Gimme some pie!</td>\n",
       "      <td>American Pie</td>\n",
       "      <td>3</td>\n",
       "      <td>M</td>\n",
       "      <td>Movies</td>\n",
       "      <td>6</td>\n",
       "      <td>117.89</td>\n",
       "      <td>4</td>\n",
       "      <td>0</td>\n",
       "    </tr>\n",
       "  </tbody>\n",
       "</table>\n",
       "</div>"
      ],
      "text/plain": [
       "   userId  timestamp                                           review  \\\n",
       "0    4081      71900                                Not always McCrap   \n",
       "1    4081      72000  I dropped the chalupa even before he told me to   \n",
       "2    4081      72000                     The Wonderful World of Wendy   \n",
       "3    4081     100399                             They actually did it   \n",
       "4    4081     100399                             Hey! Gimme some pie!   \n",
       "\n",
       "                                 item  helpfulness gender  \\\n",
       "0                          McDonald's            3      M   \n",
       "1                           Taco Bell            4      M   \n",
       "2                             Wendy's            4      M   \n",
       "3  South Park: Bigger, Longer & Uncut            3      M   \n",
       "4                        American Pie            3      M   \n",
       "\n",
       "                category  item_id  item_price  user_city  rating  \n",
       "0  Restaurants & Gourmet       41       30.74          4       1  \n",
       "1  Restaurants & Gourmet       74      108.30          4       0  \n",
       "2  Restaurants & Gourmet       84       69.00          4       1  \n",
       "3                 Movies       68      143.11          4       1  \n",
       "4                 Movies        6      117.89          4       0  "
      ]
     },
     "execution_count": 492,
     "metadata": {},
     "output_type": "execute_result"
    }
   ],
   "source": [
    "import pandas as pd\n",
    "import numpy as np\n",
    "import matplotlib.pyplot as plt\n",
    "%matplotlib inline\n",
    "from sklearn.preprocessing import OrdinalEncoder\n",
    "from sklearn.cluster import KMeans\n",
    "from sklearn.model_selection import train_test_split\n",
    "from sklearn.linear_model import LinearRegression\n",
    "from sklearn import linear_model\n",
    "from sklearn.metrics import r2_score\n",
    "from sklearn.metrics import mean_squared_error\n",
    "from sklearn.cluster import KMeans\n",
    "from scipy.cluster.hierarchy import linkage, dendrogram, cut_tree\n",
    "from scipy.spatial.distance import pdist \n",
    "from sklearn.metrics import accuracy_score\n",
    "from sklearn.feature_selection import RFE\n",
    "from sklearn.linear_model import LogisticRegression \n",
    "from sklearn.neighbors import KNeighborsClassifier\n",
    "from sklearn.model_selection import cross_val_score\n",
    "from sklearn.model_selection import GridSearchCV\n",
    "from sklearn.feature_selection import RFE\n",
    "\n",
    "\n",
    "df = pd.read_csv('portfolio_3.csv')\n",
    "\n",
    "df.head()"
   ]
  },
  {
   "cell_type": "code",
   "execution_count": 493,
   "id": "505be2e8",
   "metadata": {},
   "outputs": [
    {
     "name": "stdout",
     "output_type": "stream",
     "text": [
      "<class 'pandas.core.frame.DataFrame'>\n",
      "RangeIndex: 2685 entries, 0 to 2684\n",
      "Data columns (total 11 columns):\n",
      " #   Column       Non-Null Count  Dtype  \n",
      "---  ------       --------------  -----  \n",
      " 0   userId       2685 non-null   int64  \n",
      " 1   timestamp    2685 non-null   int64  \n",
      " 2   review       2685 non-null   object \n",
      " 3   item         2685 non-null   object \n",
      " 4   helpfulness  2685 non-null   int64  \n",
      " 5   gender       2685 non-null   object \n",
      " 6   category     2685 non-null   object \n",
      " 7   item_id      2685 non-null   int64  \n",
      " 8   item_price   2685 non-null   float64\n",
      " 9   user_city    2685 non-null   int64  \n",
      " 10  rating       2685 non-null   int64  \n",
      "dtypes: float64(1), int64(6), object(4)\n",
      "memory usage: 230.9+ KB\n"
     ]
    }
   ],
   "source": [
    "# Explore the data. Clean the data if necessary.\n",
    "df.info()"
   ]
  },
  {
   "cell_type": "code",
   "execution_count": 494,
   "id": "ce597f17",
   "metadata": {},
   "outputs": [
    {
     "name": "stdout",
     "output_type": "stream",
     "text": [
      "\n"
     ]
    }
   ],
   "source": [
    "# Convert object features into digit features by using an encoder\n",
    "\n",
    "ord_enc = OrdinalEncoder()\n",
    "df[\"genderCode\"] = ord_enc.fit_transform(df[[\"gender\"]])\n",
    "df[[\"gender\", \"genderCode\"]]\n",
    "\n",
    "df[\"categoryCode\"] = ord_enc.fit_transform(df[[\"category\"]])\n",
    "df[[\"category\", \"categoryCode\"]]\n",
    "\n",
    "df[\"reviewCode\"] = ord_enc.fit_transform(df[[\"review\"]])\n",
    "df[[\"review\", \"reviewCode\"]]\n",
    "\n",
    "df[\"itemCode\"] = ord_enc.fit_transform(df[[\"item\"]])\n",
    "df[[\"item\", \"itemCode\"]]\n",
    "print()"
   ]
  },
  {
   "cell_type": "code",
   "execution_count": 495,
   "id": "afb9aed2",
   "metadata": {},
   "outputs": [
    {
     "data": {
      "text/html": [
       "<div>\n",
       "<style scoped>\n",
       "    .dataframe tbody tr th:only-of-type {\n",
       "        vertical-align: middle;\n",
       "    }\n",
       "\n",
       "    .dataframe tbody tr th {\n",
       "        vertical-align: top;\n",
       "    }\n",
       "\n",
       "    .dataframe thead th {\n",
       "        text-align: right;\n",
       "    }\n",
       "</style>\n",
       "<table border=\"1\" class=\"dataframe\">\n",
       "  <thead>\n",
       "    <tr style=\"text-align: right;\">\n",
       "      <th></th>\n",
       "      <th>userId</th>\n",
       "      <th>timestamp</th>\n",
       "      <th>helpfulness</th>\n",
       "      <th>item_id</th>\n",
       "      <th>item_price</th>\n",
       "      <th>user_city</th>\n",
       "      <th>rating</th>\n",
       "      <th>genderCode</th>\n",
       "      <th>categoryCode</th>\n",
       "      <th>reviewCode</th>\n",
       "      <th>itemCode</th>\n",
       "    </tr>\n",
       "  </thead>\n",
       "  <tbody>\n",
       "    <tr>\n",
       "      <th>userId</th>\n",
       "      <td>1.000000</td>\n",
       "      <td>-0.069176</td>\n",
       "      <td>-0.166136</td>\n",
       "      <td>-0.005549</td>\n",
       "      <td>0.024576</td>\n",
       "      <td>-0.030031</td>\n",
       "      <td>0.066444</td>\n",
       "      <td>-0.058324</td>\n",
       "      <td>-0.041362</td>\n",
       "      <td>0.007139</td>\n",
       "      <td>-0.005513</td>\n",
       "    </tr>\n",
       "    <tr>\n",
       "      <th>timestamp</th>\n",
       "      <td>-0.069176</td>\n",
       "      <td>1.000000</td>\n",
       "      <td>0.014179</td>\n",
       "      <td>-0.004452</td>\n",
       "      <td>0.010979</td>\n",
       "      <td>-0.014934</td>\n",
       "      <td>-0.009739</td>\n",
       "      <td>-0.003367</td>\n",
       "      <td>0.015009</td>\n",
       "      <td>0.007029</td>\n",
       "      <td>-0.003543</td>\n",
       "    </tr>\n",
       "    <tr>\n",
       "      <th>helpfulness</th>\n",
       "      <td>-0.166136</td>\n",
       "      <td>0.014179</td>\n",
       "      <td>1.000000</td>\n",
       "      <td>-0.019882</td>\n",
       "      <td>0.004112</td>\n",
       "      <td>0.012086</td>\n",
       "      <td>-0.010622</td>\n",
       "      <td>0.075947</td>\n",
       "      <td>-0.013408</td>\n",
       "      <td>-0.028259</td>\n",
       "      <td>-0.020433</td>\n",
       "    </tr>\n",
       "    <tr>\n",
       "      <th>item_id</th>\n",
       "      <td>-0.005549</td>\n",
       "      <td>-0.004452</td>\n",
       "      <td>-0.019882</td>\n",
       "      <td>1.000000</td>\n",
       "      <td>-0.054450</td>\n",
       "      <td>-0.005576</td>\n",
       "      <td>0.057107</td>\n",
       "      <td>0.002370</td>\n",
       "      <td>-0.045268</td>\n",
       "      <td>0.163544</td>\n",
       "      <td>0.999765</td>\n",
       "    </tr>\n",
       "    <tr>\n",
       "      <th>item_price</th>\n",
       "      <td>0.024576</td>\n",
       "      <td>0.010979</td>\n",
       "      <td>0.004112</td>\n",
       "      <td>-0.054450</td>\n",
       "      <td>1.000000</td>\n",
       "      <td>-0.023427</td>\n",
       "      <td>0.026062</td>\n",
       "      <td>-0.040596</td>\n",
       "      <td>-0.115571</td>\n",
       "      <td>-0.041421</td>\n",
       "      <td>-0.049885</td>\n",
       "    </tr>\n",
       "    <tr>\n",
       "      <th>user_city</th>\n",
       "      <td>-0.030031</td>\n",
       "      <td>-0.014934</td>\n",
       "      <td>0.012086</td>\n",
       "      <td>-0.005576</td>\n",
       "      <td>-0.023427</td>\n",
       "      <td>1.000000</td>\n",
       "      <td>-0.034866</td>\n",
       "      <td>-0.065638</td>\n",
       "      <td>0.008017</td>\n",
       "      <td>0.045626</td>\n",
       "      <td>-0.005220</td>\n",
       "    </tr>\n",
       "    <tr>\n",
       "      <th>rating</th>\n",
       "      <td>0.066444</td>\n",
       "      <td>-0.009739</td>\n",
       "      <td>-0.010622</td>\n",
       "      <td>0.057107</td>\n",
       "      <td>0.026062</td>\n",
       "      <td>-0.034866</td>\n",
       "      <td>1.000000</td>\n",
       "      <td>-0.022169</td>\n",
       "      <td>-0.142479</td>\n",
       "      <td>-0.041756</td>\n",
       "      <td>0.057793</td>\n",
       "    </tr>\n",
       "    <tr>\n",
       "      <th>genderCode</th>\n",
       "      <td>-0.058324</td>\n",
       "      <td>-0.003367</td>\n",
       "      <td>0.075947</td>\n",
       "      <td>0.002370</td>\n",
       "      <td>-0.040596</td>\n",
       "      <td>-0.065638</td>\n",
       "      <td>-0.022169</td>\n",
       "      <td>1.000000</td>\n",
       "      <td>0.022549</td>\n",
       "      <td>-0.037884</td>\n",
       "      <td>0.001925</td>\n",
       "    </tr>\n",
       "    <tr>\n",
       "      <th>categoryCode</th>\n",
       "      <td>-0.041362</td>\n",
       "      <td>0.015009</td>\n",
       "      <td>-0.013408</td>\n",
       "      <td>-0.045268</td>\n",
       "      <td>-0.115571</td>\n",
       "      <td>0.008017</td>\n",
       "      <td>-0.142479</td>\n",
       "      <td>0.022549</td>\n",
       "      <td>1.000000</td>\n",
       "      <td>0.001970</td>\n",
       "      <td>-0.045988</td>\n",
       "    </tr>\n",
       "    <tr>\n",
       "      <th>reviewCode</th>\n",
       "      <td>0.007139</td>\n",
       "      <td>0.007029</td>\n",
       "      <td>-0.028259</td>\n",
       "      <td>0.163544</td>\n",
       "      <td>-0.041421</td>\n",
       "      <td>0.045626</td>\n",
       "      <td>-0.041756</td>\n",
       "      <td>-0.037884</td>\n",
       "      <td>0.001970</td>\n",
       "      <td>1.000000</td>\n",
       "      <td>0.163090</td>\n",
       "    </tr>\n",
       "    <tr>\n",
       "      <th>itemCode</th>\n",
       "      <td>-0.005513</td>\n",
       "      <td>-0.003543</td>\n",
       "      <td>-0.020433</td>\n",
       "      <td>0.999765</td>\n",
       "      <td>-0.049885</td>\n",
       "      <td>-0.005220</td>\n",
       "      <td>0.057793</td>\n",
       "      <td>0.001925</td>\n",
       "      <td>-0.045988</td>\n",
       "      <td>0.163090</td>\n",
       "      <td>1.000000</td>\n",
       "    </tr>\n",
       "  </tbody>\n",
       "</table>\n",
       "</div>"
      ],
      "text/plain": [
       "                userId  timestamp  helpfulness   item_id  item_price  \\\n",
       "userId        1.000000  -0.069176    -0.166136 -0.005549    0.024576   \n",
       "timestamp    -0.069176   1.000000     0.014179 -0.004452    0.010979   \n",
       "helpfulness  -0.166136   0.014179     1.000000 -0.019882    0.004112   \n",
       "item_id      -0.005549  -0.004452    -0.019882  1.000000   -0.054450   \n",
       "item_price    0.024576   0.010979     0.004112 -0.054450    1.000000   \n",
       "user_city    -0.030031  -0.014934     0.012086 -0.005576   -0.023427   \n",
       "rating        0.066444  -0.009739    -0.010622  0.057107    0.026062   \n",
       "genderCode   -0.058324  -0.003367     0.075947  0.002370   -0.040596   \n",
       "categoryCode -0.041362   0.015009    -0.013408 -0.045268   -0.115571   \n",
       "reviewCode    0.007139   0.007029    -0.028259  0.163544   -0.041421   \n",
       "itemCode     -0.005513  -0.003543    -0.020433  0.999765   -0.049885   \n",
       "\n",
       "              user_city    rating  genderCode  categoryCode  reviewCode  \\\n",
       "userId        -0.030031  0.066444   -0.058324     -0.041362    0.007139   \n",
       "timestamp     -0.014934 -0.009739   -0.003367      0.015009    0.007029   \n",
       "helpfulness    0.012086 -0.010622    0.075947     -0.013408   -0.028259   \n",
       "item_id       -0.005576  0.057107    0.002370     -0.045268    0.163544   \n",
       "item_price    -0.023427  0.026062   -0.040596     -0.115571   -0.041421   \n",
       "user_city      1.000000 -0.034866   -0.065638      0.008017    0.045626   \n",
       "rating        -0.034866  1.000000   -0.022169     -0.142479   -0.041756   \n",
       "genderCode    -0.065638 -0.022169    1.000000      0.022549   -0.037884   \n",
       "categoryCode   0.008017 -0.142479    0.022549      1.000000    0.001970   \n",
       "reviewCode     0.045626 -0.041756   -0.037884      0.001970    1.000000   \n",
       "itemCode      -0.005220  0.057793    0.001925     -0.045988    0.163090   \n",
       "\n",
       "              itemCode  \n",
       "userId       -0.005513  \n",
       "timestamp    -0.003543  \n",
       "helpfulness  -0.020433  \n",
       "item_id       0.999765  \n",
       "item_price   -0.049885  \n",
       "user_city    -0.005220  \n",
       "rating        0.057793  \n",
       "genderCode    0.001925  \n",
       "categoryCode -0.045988  \n",
       "reviewCode    0.163090  \n",
       "itemCode      1.000000  "
      ]
     },
     "execution_count": 495,
     "metadata": {},
     "output_type": "execute_result"
    }
   ],
   "source": [
    "#Study the correlation between these features.\n",
    "df.corr()"
   ]
  },
  {
   "cell_type": "code",
   "execution_count": 496,
   "id": "05833219",
   "metadata": {},
   "outputs": [
    {
     "data": {
      "text/html": [
       "<style>#sk-container-id-42 {color: black;background-color: white;}#sk-container-id-42 pre{padding: 0;}#sk-container-id-42 div.sk-toggleable {background-color: white;}#sk-container-id-42 label.sk-toggleable__label {cursor: pointer;display: block;width: 100%;margin-bottom: 0;padding: 0.3em;box-sizing: border-box;text-align: center;}#sk-container-id-42 label.sk-toggleable__label-arrow:before {content: \"▸\";float: left;margin-right: 0.25em;color: #696969;}#sk-container-id-42 label.sk-toggleable__label-arrow:hover:before {color: black;}#sk-container-id-42 div.sk-estimator:hover label.sk-toggleable__label-arrow:before {color: black;}#sk-container-id-42 div.sk-toggleable__content {max-height: 0;max-width: 0;overflow: hidden;text-align: left;background-color: #f0f8ff;}#sk-container-id-42 div.sk-toggleable__content pre {margin: 0.2em;color: black;border-radius: 0.25em;background-color: #f0f8ff;}#sk-container-id-42 input.sk-toggleable__control:checked~div.sk-toggleable__content {max-height: 200px;max-width: 100%;overflow: auto;}#sk-container-id-42 input.sk-toggleable__control:checked~label.sk-toggleable__label-arrow:before {content: \"▾\";}#sk-container-id-42 div.sk-estimator input.sk-toggleable__control:checked~label.sk-toggleable__label {background-color: #d4ebff;}#sk-container-id-42 div.sk-label input.sk-toggleable__control:checked~label.sk-toggleable__label {background-color: #d4ebff;}#sk-container-id-42 input.sk-hidden--visually {border: 0;clip: rect(1px 1px 1px 1px);clip: rect(1px, 1px, 1px, 1px);height: 1px;margin: -1px;overflow: hidden;padding: 0;position: absolute;width: 1px;}#sk-container-id-42 div.sk-estimator {font-family: monospace;background-color: #f0f8ff;border: 1px dotted black;border-radius: 0.25em;box-sizing: border-box;margin-bottom: 0.5em;}#sk-container-id-42 div.sk-estimator:hover {background-color: #d4ebff;}#sk-container-id-42 div.sk-parallel-item::after {content: \"\";width: 100%;border-bottom: 1px solid gray;flex-grow: 1;}#sk-container-id-42 div.sk-label:hover label.sk-toggleable__label {background-color: #d4ebff;}#sk-container-id-42 div.sk-serial::before {content: \"\";position: absolute;border-left: 1px solid gray;box-sizing: border-box;top: 0;bottom: 0;left: 50%;z-index: 0;}#sk-container-id-42 div.sk-serial {display: flex;flex-direction: column;align-items: center;background-color: white;padding-right: 0.2em;padding-left: 0.2em;position: relative;}#sk-container-id-42 div.sk-item {position: relative;z-index: 1;}#sk-container-id-42 div.sk-parallel {display: flex;align-items: stretch;justify-content: center;background-color: white;position: relative;}#sk-container-id-42 div.sk-item::before, #sk-container-id-42 div.sk-parallel-item::before {content: \"\";position: absolute;border-left: 1px solid gray;box-sizing: border-box;top: 0;bottom: 0;left: 50%;z-index: -1;}#sk-container-id-42 div.sk-parallel-item {display: flex;flex-direction: column;z-index: 1;position: relative;background-color: white;}#sk-container-id-42 div.sk-parallel-item:first-child::after {align-self: flex-end;width: 50%;}#sk-container-id-42 div.sk-parallel-item:last-child::after {align-self: flex-start;width: 50%;}#sk-container-id-42 div.sk-parallel-item:only-child::after {width: 0;}#sk-container-id-42 div.sk-dashed-wrapped {border: 1px dashed gray;margin: 0 0.4em 0.5em 0.4em;box-sizing: border-box;padding-bottom: 0.4em;background-color: white;}#sk-container-id-42 div.sk-label label {font-family: monospace;font-weight: bold;display: inline-block;line-height: 1.2em;}#sk-container-id-42 div.sk-label-container {text-align: center;}#sk-container-id-42 div.sk-container {/* jupyter's `normalize.less` sets `[hidden] { display: none; }` but bootstrap.min.css set `[hidden] { display: none !important; }` so we also need the `!important` here to be able to override the default hidden behavior on the sphinx rendered scikit-learn.org. See: https://github.com/scikit-learn/scikit-learn/issues/21755 */display: inline-block !important;position: relative;}#sk-container-id-42 div.sk-text-repr-fallback {display: none;}</style><div id=\"sk-container-id-42\" class=\"sk-top-container\"><div class=\"sk-text-repr-fallback\"><pre>LogisticRegression()</pre><b>In a Jupyter environment, please rerun this cell to show the HTML representation or trust the notebook. <br />On GitHub, the HTML representation is unable to render, please try loading this page with nbviewer.org.</b></div><div class=\"sk-container\" hidden><div class=\"sk-item\"><div class=\"sk-estimator sk-toggleable\"><input class=\"sk-toggleable__control sk-hidden--visually\" id=\"sk-estimator-id-44\" type=\"checkbox\" checked><label for=\"sk-estimator-id-44\" class=\"sk-toggleable__label sk-toggleable__label-arrow\">LogisticRegression</label><div class=\"sk-toggleable__content\"><pre>LogisticRegression()</pre></div></div></div></div></div>"
      ],
      "text/plain": [
       "LogisticRegression()"
      ]
     },
     "execution_count": 496,
     "metadata": {},
     "output_type": "execute_result"
    }
   ],
   "source": [
    "#Split the dataset and train a logistic regression model to predict 'rating' based on other features. Evaluate the accuracy of your model.\n",
    "train, test = train_test_split(df, test_size=0.33, random_state=142)\n",
    "\n",
    "model = LogisticRegression()\n",
    "XTrain = train[[\"userId\",\"timestamp\",\"item_id\",\"item_price\",\"user_city\",\"reviewCode\",\"itemCode\",\"helpfulness\",\"genderCode\",\"categoryCode\"]]\n",
    "YTrain = train [\"rating\"]\n",
    "XTest = test [[\"userId\",\"timestamp\",\"item_id\",\"item_price\",\"user_city\",\"reviewCode\",\"itemCode\",\"helpfulness\",\"genderCode\",\"categoryCode\"]]\n",
    "YTest = test [\"rating\"]\n",
    "model.fit(XTrain,YTrain)"
   ]
  },
  {
   "cell_type": "code",
   "execution_count": 497,
   "id": "53195f42",
   "metadata": {},
   "outputs": [
    {
     "name": "stdout",
     "output_type": "stream",
     "text": [
      "training accuracy is:  0.639599555061179\n"
     ]
    }
   ],
   "source": [
    "#Evaluate the accuracy of your model.\n",
    "predicted_train=model.predict(XTrain)\n",
    "print('training accuracy is: ', accuracy_score( YTrain,predicted_train))"
   ]
  },
  {
   "cell_type": "code",
   "execution_count": 498,
   "id": "2115953f",
   "metadata": {},
   "outputs": [
    {
     "name": "stdout",
     "output_type": "stream",
     "text": [
      "testing accuracy is:  0.6459977452085682\n"
     ]
    }
   ],
   "source": [
    "#Evaluate the accuracy of your model.\n",
    "predicted_test=model.predict(XTest)\n",
    "print('testing accuracy is: ', accuracy_score( YTest,predicted_test))"
   ]
  },
  {
   "cell_type": "code",
   "execution_count": 499,
   "id": "2afe758c",
   "metadata": {},
   "outputs": [
    {
     "data": {
      "text/plain": [
       "array([6, 8, 1, 5, 4, 7, 1, 2, 3, 1])"
      ]
     },
     "execution_count": 499,
     "metadata": {},
     "output_type": "execute_result"
    }
   ],
   "source": [
    "#rfe to improve model\n",
    "select =RFE (model, n_features_to_select =3)\n",
    "select = select.fit(XTrain,YTrain)\n",
    "select.ranking_"
   ]
  },
  {
   "cell_type": "code",
   "execution_count": 519,
   "id": "3e2e2633",
   "metadata": {},
   "outputs": [
    {
     "name": "stdout",
     "output_type": "stream",
     "text": [
      "Testing accuracy is:  0.46110484780157834\n"
     ]
    }
   ],
   "source": [
    "#Split the dataset and train a KNN model to predict 'rating' based on other features.\n",
    "\n",
    "# Create and training a KNN classifier model\n",
    "clf = KNeighborsClassifier(n_neighbors = 2)\n",
    "clf.fit(XTrain, YTrain)\n",
    "\n",
    "#Evaluate the accuracy of your model.\n",
    "\n",
    "# Use the model to predict testing data\n",
    "y_pred = clf.predict(XTest)\n",
    "accuracy = accuracy_score(y_pred, YTest)\n",
    "print('Testing accuracy is: ', accuracy)\n",
    "\n"
   ]
  },
  {
   "cell_type": "code",
   "execution_count": 510,
   "id": "940a13dc",
   "metadata": {},
   "outputs": [],
   "source": [
    "# testing accuracy hasnt improve with knn model, "
   ]
  },
  {
   "cell_type": "code",
   "execution_count": 517,
   "id": "34d0f8af",
   "metadata": {},
   "outputs": [
    {
     "name": "stdout",
     "output_type": "stream",
     "text": [
      "{'n_neighbors': 91}\n",
      "The accuracy:  0.6357056638811514\n"
     ]
    }
   ],
   "source": [
    "#Tune the hyper-parameter K in KNN to see how it influences the prediction performance\n",
    "# Define search space for parameters\n",
    "parameter_grid = {'n_neighbors': range(1, 100)}\n",
    "\n",
    "# Create the machine learning model\n",
    "clf = GridSearchCV(clfs, parameter_grid)\n",
    "clf.fit(XTrain, YTrain)\n",
    "\n",
    "# Identify the best parameter(s)\n",
    "print(clf.best_params_)\n",
    "print('The accuracy: ', clf.best_score_)"
   ]
  },
  {
   "cell_type": "code",
   "execution_count": 518,
   "id": "781999ef",
   "metadata": {},
   "outputs": [
    {
     "name": "stdout",
     "output_type": "stream",
     "text": [
      "Testing accuracy is:  0.6437429537767756\n"
     ]
    }
   ],
   "source": [
    "# Create and training a KNN classifier model\n",
    "clf = KNeighborsClassifier(n_neighbors = 91)\n",
    "clf.fit(XTrain, YTrain)\n",
    "\n",
    "# Use the model to predict testing data\n",
    "y_pred = clf.predict(XTest)\n",
    "accuracy = accuracy_score(y_pred, YTest)\n",
    "print('Testing accuracy is: ', accuracy)"
   ]
  },
  {
   "cell_type": "code",
   "execution_count": 489,
   "id": "18ffc808",
   "metadata": {},
   "outputs": [],
   "source": [
    "#testing accuracy has improved, however is still not better than orginal test"
   ]
  },
  {
   "cell_type": "code",
   "execution_count": null,
   "id": "ed280566",
   "metadata": {},
   "outputs": [],
   "source": []
  }
 ],
 "metadata": {
  "colab": {
   "provenance": []
  },
  "kernelspec": {
   "display_name": "Python 3 (ipykernel)",
   "language": "python",
   "name": "python3"
  },
  "language_info": {
   "codemirror_mode": {
    "name": "ipython",
    "version": 3
   },
   "file_extension": ".py",
   "mimetype": "text/x-python",
   "name": "python",
   "nbconvert_exporter": "python",
   "pygments_lexer": "ipython3",
   "version": "3.11.3"
  }
 },
 "nbformat": 4,
 "nbformat_minor": 5
}
